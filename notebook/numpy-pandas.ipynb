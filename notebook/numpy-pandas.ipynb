{
 "cells": [
  {
   "cell_type": "code",
   "execution_count": 2,
   "metadata": {},
   "outputs": [],
   "source": [
    "import pandas as pd\n",
    "import numpy as np"
   ]
  },
  {
   "cell_type": "code",
   "execution_count": 11,
   "metadata": {},
   "outputs": [
    {
     "name": "stdout",
     "output_type": "stream",
     "text": [
      "0    1.0\n",
      "1    3.0\n",
      "2    6.0\n",
      "3    NaN\n",
      "4    4.0\n",
      "5    1.0\n",
      "dtype: float64\n"
     ]
    }
   ],
   "source": [
    "s = pd.Series([1,3,6,np.nan,4,1]) # similar with 1D numpy\n",
    "print(s)"
   ]
  },
  {
   "cell_type": "code",
   "execution_count": 12,
   "metadata": {},
   "outputs": [
    {
     "name": "stdout",
     "output_type": "stream",
     "text": [
      "2016-01-01   -0.602282\n",
      "2016-01-02    0.889152\n",
      "2016-01-03   -0.681173\n",
      "2016-01-04    1.412028\n",
      "2016-01-05    0.075060\n",
      "2016-01-06    0.238534\n",
      "Freq: D, Name: B, dtype: float64\n"
     ]
    }
   ],
   "source": [
    "dates = pd.date_range('20160101', periods=6)\n",
    "df = pd.DataFrame(np.random.randn(6,4), index=dates, columns=['A','B','C','D'])\n",
    "print(df['B'])"
   ]
  },
  {
   "cell_type": "code",
   "execution_count": 13,
   "metadata": {},
   "outputs": [
    {
     "name": "stdout",
     "output_type": "stream",
     "text": [
      "   0  1   2   3\n",
      "0  0  1   2   3\n",
      "1  4  5   6   7\n",
      "2  8  9  10  11\n"
     ]
    }
   ],
   "source": [
    "df1 = pd.DataFrame(np.arange(12).reshape((3,4)))\n",
    "print(df1)"
   ]
  },
  {
   "cell_type": "code",
   "execution_count": 14,
   "metadata": {},
   "outputs": [
    {
     "data": {
      "text/plain": [
       "array([[ 0,  1,  2,  3],\n",
       "       [ 4,  5,  6,  7],\n",
       "       [ 8,  9, 10, 11]])"
      ]
     },
     "execution_count": 14,
     "metadata": {},
     "output_type": "execute_result"
    }
   ],
   "source": [
    "np.arange(12).reshape((3,4))"
   ]
  },
  {
   "cell_type": "code",
   "execution_count": 15,
   "metadata": {},
   "outputs": [
    {
     "data": {
      "text/plain": [
       "0    0\n",
       "1    4\n",
       "2    8\n",
       "Name: 0, dtype: int64"
      ]
     },
     "execution_count": 15,
     "metadata": {},
     "output_type": "execute_result"
    }
   ],
   "source": [
    "df1[0]"
   ]
  },
  {
   "cell_type": "code",
   "execution_count": 16,
   "metadata": {},
   "outputs": [],
   "source": [
    "df2 = pd.DataFrame({'A' : 1.,\n",
    "                       'B' : pd.Timestamp('20130102'),\n",
    "                        'C' : pd.Series(1,index=list(range(4)),dtype='float32'),\n",
    "                        'D' : np.array([3] * 4,dtype='int32'),\n",
    "                        'E' : pd.Categorical([\"test\",\"train\",\"test\",\"train\"]),\n",
    "                        'F' : 'foo'})"
   ]
  },
  {
   "cell_type": "code",
   "execution_count": 17,
   "metadata": {},
   "outputs": [
    {
     "name": "stdout",
     "output_type": "stream",
     "text": [
      "     A          B    C  D      E    F\n",
      "0  1.0 2013-01-02  1.0  3   test  foo\n",
      "1  1.0 2013-01-02  1.0  3  train  foo\n",
      "2  1.0 2013-01-02  1.0  3   test  foo\n",
      "3  1.0 2013-01-02  1.0  3  train  foo\n",
      "A           float64\n",
      "B    datetime64[ns]\n",
      "C           float32\n",
      "D             int32\n",
      "E          category\n",
      "F            object\n",
      "dtype: object\n",
      "DatetimeIndex(['2016-01-01', '2016-01-02', '2016-01-03', '2016-01-04',\n",
      "               '2016-01-05', '2016-01-06'],\n",
      "              dtype='datetime64[ns]', freq='D')\n",
      "Index(['A', 'B', 'C', 'D'], dtype='object')\n",
      "[[-0.88278483 -0.60228245 -0.5501094   0.12576113]\n",
      " [-1.00723196  0.88915246  0.35659095 -0.86352935]\n",
      " [-0.36970125 -0.68117261  0.93194156 -1.94536231]\n",
      " [-0.73324129  1.4120281   1.72059287  0.35032024]\n",
      " [ 0.14420406  0.07506035 -0.58788932 -0.5460364 ]\n",
      " [-0.84953217  0.23853439  0.59142344 -1.27227515]]\n",
      "              A         B         C         D\n",
      "count  6.000000  6.000000  6.000000  6.000000\n",
      "mean  -0.616381  0.221887  0.410425 -0.691854\n",
      "std    0.431530  0.821984  0.888081  0.861804\n",
      "min   -1.007232 -0.681173 -0.587889 -1.945362\n",
      "25%   -0.874472 -0.432947 -0.323434 -1.170089\n",
      "50%   -0.791387  0.156797  0.474007 -0.704783\n",
      "75%   -0.460586  0.726498  0.846812 -0.042188\n",
      "max    0.144204  1.412028  1.720593  0.350320\n",
      "   2016-01-01  2016-01-02  2016-01-03  2016-01-04  2016-01-05  2016-01-06\n",
      "A   -0.882785   -1.007232   -0.369701   -0.733241    0.144204   -0.849532\n",
      "B   -0.602282    0.889152   -0.681173    1.412028    0.075060    0.238534\n",
      "C   -0.550109    0.356591    0.931942    1.720593   -0.587889    0.591423\n",
      "D    0.125761   -0.863529   -1.945362    0.350320   -0.546036   -1.272275\n",
      "                   D         C         B         A\n",
      "2016-01-01  0.125761 -0.550109 -0.602282 -0.882785\n",
      "2016-01-02 -0.863529  0.356591  0.889152 -1.007232\n",
      "2016-01-03 -1.945362  0.931942 -0.681173 -0.369701\n",
      "2016-01-04  0.350320  1.720593  1.412028 -0.733241\n",
      "2016-01-05 -0.546036 -0.587889  0.075060  0.144204\n",
      "2016-01-06 -1.272275  0.591423  0.238534 -0.849532\n",
      "                   A         B         C         D\n",
      "2016-01-03 -0.369701 -0.681173  0.931942 -1.945362\n",
      "2016-01-01 -0.882785 -0.602282 -0.550109  0.125761\n",
      "2016-01-05  0.144204  0.075060 -0.587889 -0.546036\n",
      "2016-01-06 -0.849532  0.238534  0.591423 -1.272275\n",
      "2016-01-02 -1.007232  0.889152  0.356591 -0.863529\n",
      "2016-01-04 -0.733241  1.412028  1.720593  0.350320\n"
     ]
    }
   ],
   "source": [
    "print(df2)\n",
    "print(df2.dtypes)\n",
    "\n",
    "print(df.index)\n",
    "print(df.columns)\n",
    "print(df.values)\n",
    "print(df.describe())\n",
    "print(df.T)\n",
    "print(df.sort_index(axis=1, ascending=False))\n",
    "print(df.sort_values(by='B'))"
   ]
  },
  {
   "cell_type": "code",
   "execution_count": 18,
   "metadata": {},
   "outputs": [
    {
     "name": "stdout",
     "output_type": "stream",
     "text": [
      "2013-01-01   -0.716823\n",
      "2013-01-02   -0.981435\n",
      "2013-01-03    0.359508\n",
      "2013-01-04    1.080203\n",
      "2013-01-05    0.270895\n",
      "2013-01-06    1.435208\n",
      "Freq: D, Name: A, dtype: float64 2013-01-01   -0.716823\n",
      "2013-01-02   -0.981435\n",
      "2013-01-03    0.359508\n",
      "2013-01-04    1.080203\n",
      "2013-01-05    0.270895\n",
      "2013-01-06    1.435208\n",
      "Freq: D, Name: A, dtype: float64\n",
      "                   A         B         C         D\n",
      "2013-01-01 -0.716823 -0.058999 -1.115310 -0.811255\n",
      "2013-01-02 -0.981435 -0.059660 -1.496268  0.837364\n",
      "2013-01-03  0.359508 -0.038713  0.181450 -1.158220                    A         B         C         D\n",
      "2013-01-02 -0.981435 -0.059660 -1.496268  0.837364\n",
      "2013-01-03  0.359508 -0.038713  0.181450 -1.158220\n",
      "2013-01-04  1.080203  1.008137  0.671581 -0.296747\n",
      "A   -0.981435\n",
      "B   -0.059660\n",
      "C   -1.496268\n",
      "D    0.837364\n",
      "Name: 2013-01-02 00:00:00, dtype: float64\n",
      "                   A         B\n",
      "2013-01-01 -0.716823 -0.058999\n",
      "2013-01-02 -0.981435 -0.059660\n",
      "2013-01-03  0.359508 -0.038713\n",
      "2013-01-04  1.080203  1.008137\n",
      "2013-01-05  0.270895  0.809773\n",
      "2013-01-06  1.435208 -1.278335\n",
      "A   -0.981435\n",
      "B   -0.059660\n",
      "Name: 2013-01-02 00:00:00, dtype: float64\n",
      "A    1.080203\n",
      "B    1.008137\n",
      "C    0.671581\n",
      "D   -0.296747\n",
      "Name: 2013-01-04 00:00:00, dtype: float64\n",
      "1.0081366185835994\n",
      "                   A         B\n",
      "2013-01-04  1.080203  1.008137\n",
      "2013-01-05  0.270895  0.809773\n",
      "                   A         C\n",
      "2013-01-02 -0.981435 -1.496268\n",
      "2013-01-03  0.359508  0.181450\n",
      "2013-01-05  0.270895  1.867595\n",
      "                   A         C\n",
      "2013-01-01 -0.716823 -1.115310\n",
      "2013-01-02 -0.981435 -1.496268\n",
      "2013-01-03  0.359508  0.181450\n",
      "                   A         B         C         D\n",
      "2013-01-03  0.359508 -0.038713  0.181450 -1.158220\n",
      "2013-01-04  1.080203  1.008137  0.671581 -0.296747\n",
      "2013-01-05  0.270895  0.809773  1.867595 -0.850167\n",
      "2013-01-06  1.435208 -1.278335 -0.249868  0.589868\n"
     ]
    },
    {
     "name": "stderr",
     "output_type": "stream",
     "text": [
      "/Users/Liu/.pyenv/versions/3.6.3/lib/python3.6/site-packages/ipykernel_launcher.py:20: DeprecationWarning: \n",
      ".ix is deprecated. Please use\n",
      ".loc for label based indexing or\n",
      ".iloc for positional indexing\n",
      "\n",
      "See the documentation here:\n",
      "http://pandas.pydata.org/pandas-docs/stable/indexing.html#ix-indexer-is-deprecated\n"
     ]
    }
   ],
   "source": [
    "# 数据选择\n",
    "dates = pd.date_range('20130101', periods=6)\n",
    "df = pd.DataFrame(np.random.randn(6,4), index=dates, columns=['A', 'B', 'C', 'D'])\n",
    "\n",
    "print(df['A'], df.A)\n",
    "print(df[0:3], df['20130102':'20130104'])\n",
    "\n",
    "# select by label: loc\n",
    "print(df.loc['20130102'])\n",
    "print(df.loc[:,['A','B']])\n",
    "print(df.loc['20130102', ['A','B']])\n",
    "\n",
    "# select by position: iloc\n",
    "print(df.iloc[3])\n",
    "print(df.iloc[3, 1])\n",
    "print(df.iloc[3:5,0:2])\n",
    "print(df.iloc[[1,2,4],[0,2]])\n",
    "\n",
    "# mixed selection: ix\n",
    "print(df.ix[:3, ['A', 'C']])\n",
    "# Boolean indexing\n",
    "print(df[df.A > 0])"
   ]
  },
  {
   "cell_type": "code",
   "execution_count": null,
   "metadata": {},
   "outputs": [],
   "source": []
  }
 ],
 "metadata": {
  "kernelspec": {
   "display_name": "Python 3",
   "language": "python",
   "name": "python3"
  },
  "language_info": {
   "codemirror_mode": {
    "name": "ipython",
    "version": 3
   },
   "file_extension": ".py",
   "mimetype": "text/x-python",
   "name": "python",
   "nbconvert_exporter": "python",
   "pygments_lexer": "ipython3",
   "version": "3.6.3"
  }
 },
 "nbformat": 4,
 "nbformat_minor": 2
}
